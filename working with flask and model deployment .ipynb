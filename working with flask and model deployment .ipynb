{
 "cells": [
  {
   "cell_type": "code",
   "execution_count": 2,
   "id": "182f2010",
   "metadata": {},
   "outputs": [],
   "source": [
    "import pickle\n",
    "from flask import Flask,request,jsonify,render_template\n",
    "import numpy as np\n",
    "import pandas as pd\n",
    "from sklearn.preprocessing import StandardScaler"
   ]
  },
  {
   "cell_type": "code",
   "execution_count": 3,
   "id": "d18496df",
   "metadata": {},
   "outputs": [],
   "source": [
    "app = Flask(__name__)"
   ]
  },
  {
   "cell_type": "code",
   "execution_count": 4,
   "id": "1c7fbb6e",
   "metadata": {},
   "outputs": [],
   "source": [
    "# import ridge regressor model and standard scaler pickle file\n",
    "ridge_model = pickle.load(open('ridge.pkl','rb'))\n",
    "standard_scaler = pickle.load(open(\"scaler_model.pkl\",'rb'))"
   ]
  },
  {
   "cell_type": "code",
   "execution_count": 5,
   "id": "7fd56ff8",
   "metadata": {},
   "outputs": [],
   "source": [
    "## route for home page\n",
    "@app.route('/')\n",
    "def index():\n",
    "    return render_template('index.html')"
   ]
  },
  {
   "cell_type": "code",
   "execution_count": 6,
   "id": "569d794d",
   "metadata": {
    "scrolled": true
   },
   "outputs": [],
   "source": [
    "@app.route('/predictdata',methods = ['GET','POST'])\n",
    "def predict_datapoint():\n",
    "    if request.method == 'POST':\n",
    "        Temperature=float (request. form. get ('Temperature' ))\n",
    "        RH = float(request. form. get ('RH'))\n",
    "        Ws = float(request. form. get ('Ws'))\n",
    "        Rain = float(request. form. get ('Rain' ))\n",
    "        FFMC = float(request. form. get ( 'FFMC'))\n",
    "        DMC = float (request. form. get ( 'DMC' ))\n",
    "        ISI = float(request. form.get ('ISI'))\n",
    "        region = float (request. form. get ('Region'))\n",
    "        Classes = float (request. form. get ('Classes'))\n",
    "        \n",
    "        \n",
    "        new_data_scaled = standard_scaler.transform([[Temperature,RH,Ws,Rain,FFMC,DMC,ISI,region,classes]])\n",
    "        result = ridge_model.predict(new_data_scaled)\n",
    "       \n",
    "        return render_template('home.html', result = result[0])\n",
    "        \n",
    "    else:\n",
    "        return render_template('home.html')"
   ]
  },
  {
   "cell_type": "code",
   "execution_count": 7,
   "id": "be81fde5",
   "metadata": {
    "scrolled": false
   },
   "outputs": [
    {
     "name": "stdout",
     "output_type": "stream",
     "text": [
      " * Serving Flask app \"__main__\" (lazy loading)\n",
      " * Environment: production\n",
      "\u001b[31m   WARNING: This is a development server. Do not use it in a production deployment.\u001b[0m\n",
      "\u001b[2m   Use a production WSGI server instead.\u001b[0m\n",
      " * Debug mode: off\n"
     ]
    },
    {
     "name": "stderr",
     "output_type": "stream",
     "text": [
      " * Running on all addresses.\n",
      "   WARNING: This is a development server. Do not use it in a production deployment.\n",
      " * Running on http://192.168.1.13:5000/ (Press CTRL+C to quit)\n",
      "192.168.1.13 - - [17/May/2023 03:38:58] \"GET / HTTP/1.1\" 200 -\n",
      "192.168.1.13 - - [17/May/2023 03:39:03] \"GET /predictdata HTTP/1.1\" 200 -\n",
      "[2023-05-17 03:39:13,241] ERROR in app: Exception on /predictdata [POST]\n",
      "Traceback (most recent call last):\n",
      "  File \"C:\\Users\\HP\\anaconda3\\lib\\site-packages\\flask\\app.py\", line 2447, in wsgi_app\n",
      "    response = self.full_dispatch_request()\n",
      "  File \"C:\\Users\\HP\\anaconda3\\lib\\site-packages\\flask\\app.py\", line 1952, in full_dispatch_request\n",
      "    rv = self.handle_user_exception(e)\n",
      "  File \"C:\\Users\\HP\\anaconda3\\lib\\site-packages\\flask\\app.py\", line 1821, in handle_user_exception\n",
      "    reraise(exc_type, exc_value, tb)\n",
      "  File \"C:\\Users\\HP\\anaconda3\\lib\\site-packages\\flask\\_compat.py\", line 39, in reraise\n",
      "    raise value\n",
      "  File \"C:\\Users\\HP\\anaconda3\\lib\\site-packages\\flask\\app.py\", line 1950, in full_dispatch_request\n",
      "    rv = self.dispatch_request()\n",
      "  File \"C:\\Users\\HP\\anaconda3\\lib\\site-packages\\flask\\app.py\", line 1936, in dispatch_request\n",
      "    return self.view_functions[rule.endpoint](**req.view_args)\n",
      "  File \"C:\\Users\\HP\\AppData\\Local\\Temp\\ipykernel_12448\\666570647.py\", line 5, in predict_datapoint\n",
      "    RH = float(request. form. get ('RH'))\n",
      "TypeError: float() argument must be a string or a number, not 'NoneType'\n",
      "192.168.1.13 - - [17/May/2023 03:39:13] \"POST /predictdata HTTP/1.1\" 500 -\n"
     ]
    }
   ],
   "source": [
    "if __name__ == '__main__':\n",
    "    app.run(host=\"0.0.0.0\")"
   ]
  },
  {
   "cell_type": "code",
   "execution_count": 10,
   "id": "7bd72b94",
   "metadata": {},
   "outputs": [
    {
     "ename": "SyntaxError",
     "evalue": "invalid syntax (491385128.py, line 1)",
     "output_type": "error",
     "traceback": [
      "\u001b[1;36m  File \u001b[1;32m\"C:\\Users\\HP\\AppData\\Local\\Temp\\ipykernel_12448\\491385128.py\"\u001b[1;36m, line \u001b[1;32m1\u001b[0m\n\u001b[1;33m    echo \"# Forestfire\" >> README.md\u001b[0m\n\u001b[1;37m         ^\u001b[0m\n\u001b[1;31mSyntaxError\u001b[0m\u001b[1;31m:\u001b[0m invalid syntax\n"
     ]
    }
   ],
   "source": []
  },
  {
   "cell_type": "code",
   "execution_count": null,
   "id": "fd82fa25",
   "metadata": {},
   "outputs": [],
   "source": []
  },
  {
   "cell_type": "code",
   "execution_count": null,
   "id": "14a3c926",
   "metadata": {},
   "outputs": [],
   "source": []
  }
 ],
 "metadata": {
  "kernelspec": {
   "display_name": "Python 3 (ipykernel)",
   "language": "python",
   "name": "python3"
  },
  "language_info": {
   "codemirror_mode": {
    "name": "ipython",
    "version": 3
   },
   "file_extension": ".py",
   "mimetype": "text/x-python",
   "name": "python",
   "nbconvert_exporter": "python",
   "pygments_lexer": "ipython3",
   "version": "3.9.13"
  }
 },
 "nbformat": 4,
 "nbformat_minor": 5
}
